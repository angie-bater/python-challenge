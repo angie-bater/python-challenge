{
 "cells": [
  {
   "cell_type": "code",
   "execution_count": 1,
   "metadata": {},
   "outputs": [],
   "source": [
    "# import modules\n",
    "import os\n",
    "import csv"
   ]
  },
  {
   "cell_type": "code",
   "execution_count": 2,
   "metadata": {},
   "outputs": [],
   "source": [
    "# set path for file\n",
    "csvpath = os.path.join(\"..\",\"**PyBank**\", \"budget_data.csv\")"
   ]
  },
  {
   "cell_type": "code",
   "execution_count": 3,
   "metadata": {
    "scrolled": true
   },
   "outputs": [
    {
     "name": "stdout",
     "output_type": "stream",
     "text": [
      "['Date', 'Profit/Losses']\n",
      "['Jan-2010', '867884']\n",
      "['Feb-2010', '984655']\n",
      "['Mar-2010', '322013']\n",
      "['Apr-2010', '-69417']\n",
      "['May-2010', '310503']\n",
      "['Jun-2010', '522857']\n",
      "['Jul-2010', '1033096']\n",
      "['Aug-2010', '604885']\n",
      "['Sep-2010', '-216386']\n",
      "['Oct-2010', '477532']\n",
      "['Nov-2010', '893810']\n",
      "['Dec-2010', '-80353']\n",
      "['Jan-2011', '779806']\n",
      "['Feb-2011', '-335203']\n",
      "['Mar-2011', '697845']\n",
      "['Apr-2011', '793163']\n",
      "['May-2011', '485070']\n",
      "['Jun-2011', '584122']\n",
      "['Jul-2011', '62729']\n",
      "['Aug-2011', '668179']\n",
      "['Sep-2011', '899906']\n",
      "['Oct-2011', '834719']\n",
      "['Nov-2011', '132003']\n",
      "['Dec-2011', '309978']\n",
      "['Jan-2012', '-755566']\n",
      "['Feb-2012', '1170593']\n",
      "['Mar-2012', '252788']\n",
      "['Apr-2012', '1151518']\n",
      "['May-2012', '817256']\n",
      "['Jun-2012', '570757']\n",
      "['Jul-2012', '506702']\n",
      "['Aug-2012', '-1022534']\n",
      "['Sep-2012', '475062']\n",
      "['Oct-2012', '779976']\n",
      "['Nov-2012', '144175']\n",
      "['Dec-2012', '542494']\n",
      "['Jan-2013', '359333']\n",
      "['Feb-2013', '321469']\n",
      "['Mar-2013', '67780']\n",
      "['Apr-2013', '471435']\n",
      "['May-2013', '565603']\n",
      "['Jun-2013', '872480']\n",
      "['Jul-2013', '789480']\n",
      "['Aug-2013', '999942']\n",
      "['Sep-2013', '-1196225']\n",
      "['Oct-2013', '268997']\n",
      "['Nov-2013', '-687986']\n",
      "['Dec-2013', '1150461']\n",
      "['Jan-2014', '682458']\n",
      "['Feb-2014', '617856']\n",
      "['Mar-2014', '824098']\n",
      "['Apr-2014', '581943']\n",
      "['May-2014', '132864']\n",
      "['Jun-2014', '448062']\n",
      "['Jul-2014', '689161']\n",
      "['Aug-2014', '800701']\n",
      "['Sep-2014', '1166643']\n",
      "['Oct-2014', '947333']\n",
      "['Nov-2014', '578668']\n",
      "['Dec-2014', '988505']\n",
      "['Jan-2015', '1139715']\n",
      "['Feb-2015', '1029471']\n",
      "['Mar-2015', '687533']\n",
      "['Apr-2015', '-524626']\n",
      "['May-2015', '158620']\n",
      "['Jun-2015', '87795']\n",
      "['Jul-2015', '423389']\n",
      "['Aug-2015', '840723']\n",
      "['Sep-2015', '568529']\n",
      "['Oct-2015', '332067']\n",
      "['Nov-2015', '989499']\n",
      "['Dec-2015', '778237']\n",
      "['Jan-2016', '650000']\n",
      "['Feb-2016', '-1100387']\n",
      "['Mar-2016', '-174946']\n",
      "['Apr-2016', '757143']\n",
      "['May-2016', '445709']\n",
      "['Jun-2016', '712961']\n",
      "['Jul-2016', '-1163797']\n",
      "['Aug-2016', '569899']\n",
      "['Sep-2016', '768450']\n",
      "['Oct-2016', '102685']\n",
      "['Nov-2016', '795914']\n",
      "['Dec-2016', '60988']\n",
      "['Jan-2017', '138230']\n",
      "['Feb-2017', '671099']\n"
     ]
    }
   ],
   "source": [
    "# open csv \n",
    "with open(csvpath) as csvfile:\n",
    "    csvreader = csv.reader(csvfile, delimiter=',')\n",
    "    \n",
    "    for row in csvreader:\n",
    "        print(row)\n",
    "        total_months = 0\n",
    "   "
   ]
  },
  {
   "cell_type": "code",
   "execution_count": 4,
   "metadata": {},
   "outputs": [
    {
     "name": "stdout",
     "output_type": "stream",
     "text": [
      "86\n"
     ]
    }
   ],
   "source": [
    " # open csv \n",
    "with open(csvpath) as csvfile:\n",
    "    csvreader = csv.reader(csvfile, delimiter=',')\n",
    "\n",
    "    \n",
    "    # for loop including header\n",
    "    total_months = 0\n",
    "    for row in csvreader:\n",
    "        total_months= total_months+1\n",
    "    total_months = total_months-1\n",
    "print(total_months)"
   ]
  },
  {
   "cell_type": "code",
   "execution_count": 5,
   "metadata": {},
   "outputs": [
    {
     "name": "stdout",
     "output_type": "stream",
     "text": [
      "38382578\n"
     ]
    }
   ],
   "source": [
    " # open csv \n",
    "with open(csvpath) as csvfile:\n",
    "    csvreader = csv.reader(csvfile, delimiter=',')\n",
    "\n",
    "      \n",
    "    # for loop net profit loss\n",
    "    net_profit_loss = 0\n",
    "    # need to write code to skip header\n",
    "    next(csvreader, None)\n",
    "    for row in csvreader:\n",
    "        col=row[1]\n",
    "        #print(col) # troubleshooting\n",
    "        #int(col)\n",
    "        net_profit_loss +=int(col)\n",
    "    \n",
    "    \n",
    "    print(net_profit_loss)\n"
   ]
  },
  {
   "cell_type": "code",
   "execution_count": 6,
   "metadata": {},
   "outputs": [
    {
     "name": "stdout",
     "output_type": "stream",
     "text": [
      "867884\n",
      "-196785\n",
      "-2288.1976744186045\n"
     ]
    }
   ],
   "source": [
    " # open csv \n",
    "with open(csvpath) as csvfile:\n",
    "    csvreader = csv.reader(csvfile, delimiter=',')\n",
    "    # need to write code to skip header\n",
    "    next(csvreader, None)\n",
    "    \n",
    "    # set rev_change to first row with data\n",
    "    first_line =next(csvreader)\n",
    "    previous_number = first_line[1]\n",
    "    rev_change=0\n",
    "    print(previous_number)\n",
    "\n",
    "    \n",
    "    # average revenue change - want to find difference between row and row before to find difference between each month then divide by total_months\n",
    "    \n",
    "    for col in csvreader:\n",
    "        rev_change += int(col[1])-int(previous_number)\n",
    "        \n",
    "        # set new value to previous_number\n",
    "        previous_number = col[1]\n",
    "        \n",
    "    print(rev_change)    \n",
    "    avg_rev_change = (rev_change)/(total_months)\n",
    "    print(avg_rev_change)\n",
    "    \n",
    "    # greatest and smallest change in revenue\n",
    "    #max_rev_change = max(rev_change))\n",
    "    #print(max_rev_change)\n",
    "    #min_rev_change = min(rev_change)\n",
    "    #print(min_rev_change)\n",
    "   \n",
    "    "
   ]
  },
  {
   "cell_type": "code",
   "execution_count": 7,
   "metadata": {
    "scrolled": true
   },
   "outputs": [
    {
     "name": "stdout",
     "output_type": "stream",
     "text": [
      "biggest_change:1926159\n",
      "smallest_change:-2196167\n",
      "Feb-2012\n",
      "Sep-2013\n"
     ]
    }
   ],
   "source": [
    " # open csv \n",
    "with open(csvpath) as csvfile:\n",
    "    csvreader = csv.reader(csvfile, delimiter=',')\n",
    "    # need to write code to skip header\n",
    "    next(csvreader, None)\n",
    "# set rev_change to first row with data\n",
    "    first_line =next(csvreader)\n",
    "    previous_number = first_line[1]\n",
    "# greatest and smallest change in revenue\n",
    "\n",
    "    #max_change and min_change\n",
    "    biggest_change = 0\n",
    "    smallest_change = 0\n",
    "    biggest_month = \"\"\n",
    "    smallest_month = \"\"\n",
    "    for col in csvreader:\n",
    "        change = int(col[1])-int(previous_number)\n",
    "        # set new value to previous_number\n",
    "        previous_number = col[1]\n",
    "        change_list=[change]\n",
    "        #print(change_list)\n",
    "        # if statement for greatest increase #broken\n",
    "        #print(col[1])\n",
    "        \n",
    "        if change > biggest_change:\n",
    "            biggest_change = change\n",
    "            biggest_month = col[0]\n",
    "            \n",
    "    \n",
    "        if change < smallest_change:\n",
    "            smallest_change = change\n",
    "            smallest_month = col[0]\n",
    "    print(\"biggest_change:\" +str(biggest_change))\n",
    "    print(\"smallest_change:\" +str(smallest_change))\n",
    "    print(biggest_month)\n",
    "    print(smallest_month)\n",
    "            \n",
    "            \n",
    "        \n",
    "        # if statement for greatest decrease\n",
    "        #if change < previous_number\n",
    "        \n",
    "        #min_rev_change = min(rev_change)\n",
    "        #print(min_rev_change)\n",
    "        \n",
    "# ** Option: write for loop that compares each row to previous and if statement that if next row is greater than previous, replace with function"
   ]
  },
  {
   "cell_type": "code",
   "execution_count": 11,
   "metadata": {},
   "outputs": [],
   "source": [
    "# financial summary\n",
    "output = (\n",
    "    f\"Financial Analysis\\n\"\n",
    "    f\"------------------\\n\"\n",
    "    f\"Total Months {str(total_months)}\\n\"\n",
    "    f\"Average Change $ {str(avg_rev_change)}\\n\"\n",
    "    f\"Greatest Increase in Profits: {biggest_month} {str(biggest_change)}\\n\"\n",
    "    f\"Greatest Decrease in Profits: {smallest_month} {str(smallest_change)}\\n\"\n",
    ")"
   ]
  },
  {
   "cell_type": "code",
   "execution_count": 12,
   "metadata": {},
   "outputs": [
    {
     "name": "stdout",
     "output_type": "stream",
     "text": [
      "Financial Analysis\n",
      "------------------\n",
      "Total Months 86\n",
      "Average Change $ -2288.1976744186045\n",
      "Greatest Increase in Profits: Feb-2012 1926159\n",
      "Greatest Decrease in Profits: Sep-2013 -2196167\n",
      "\n"
     ]
    }
   ],
   "source": [
    "print(output)"
   ]
  },
  {
   "cell_type": "code",
   "execution_count": 15,
   "metadata": {},
   "outputs": [],
   "source": [
    "#set text path\n",
    "\n",
    "with open(\"./analysis/analysis.txt\",\"w\") as textfile:\n",
    "    textfile.write(output)\n",
    "    "
   ]
  },
  {
   "cell_type": "code",
   "execution_count": null,
   "metadata": {},
   "outputs": [],
   "source": []
  },
  {
   "cell_type": "code",
   "execution_count": null,
   "metadata": {},
   "outputs": [],
   "source": []
  }
 ],
 "metadata": {
  "kernelspec": {
   "display_name": "Python 3",
   "language": "python",
   "name": "python3"
  },
  "language_info": {
   "codemirror_mode": {
    "name": "ipython",
    "version": 3
   },
   "file_extension": ".py",
   "mimetype": "text/x-python",
   "name": "python",
   "nbconvert_exporter": "python",
   "pygments_lexer": "ipython3",
   "version": "3.7.6"
  }
 },
 "nbformat": 4,
 "nbformat_minor": 4
}
